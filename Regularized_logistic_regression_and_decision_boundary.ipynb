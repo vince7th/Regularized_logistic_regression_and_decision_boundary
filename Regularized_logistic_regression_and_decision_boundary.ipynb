{
 "cells": [
  {
   "cell_type": "markdown",
   "metadata": {},
   "source": [
    "## Vous êtes le patron d'une usine de composants électroniques\n",
    "Vous voulez prédire si un composant est capable de passer des tests de qualité\n",
    "Le dataset est composé de 2 features X1 et X2 et d'une variable cible binaire Y = 0/1"
   ]
  },
  {
   "cell_type": "markdown",
   "metadata": {
    "collapsed": true
   },
   "source": [
    "### 1. Visualisez les données\n",
    "en représentant graphiquement les features et les Y\n",
    "dans le plan. Bien sûr, il faut tenir compte que les features sont continues\n",
    "et la variable Y est binaire (catégorielle pour cette représentation graphique)"
   ]
  },
  {
   "cell_type": "code",
   "execution_count": null,
   "metadata": {},
   "outputs": [],
   "source": []
  },
  {
   "cell_type": "code",
   "execution_count": null,
   "metadata": {},
   "outputs": [],
   "source": [
    "# REPONSE :"
   ]
  },
  {
   "cell_type": "code",
   "execution_count": 2,
   "metadata": {},
   "outputs": [],
   "source": [
    "# Création de la matrice et de la dataframe\n",
    "import numpy as np\n",
    "mat_for_regularized_reg_log=np.loadtxt(\"data_for_regularized_reg_log.txt\", delimiter=',')\n",
    "import pandas as pd\n",
    "df_for_regularized_reg_log = pd.DataFrame(data=mat_for_regularized_reg_log, columns=['X1','X2','Y'])\n",
    "\n",
    "# Ou on peut obtenir directement le dataframe avec \"read_csv\" :\n",
    "# df_for_regularized_reg_log = pd.read_csv(\"data_for_regularized_reg_log.txt\", names = ['X1','X2','Y'])"
   ]
  },
  {
   "cell_type": "code",
   "execution_count": 3,
   "metadata": {},
   "outputs": [
    {
     "data": {
      "text/html": [
       "<div>\n",
       "<style scoped>\n",
       "    .dataframe tbody tr th:only-of-type {\n",
       "        vertical-align: middle;\n",
       "    }\n",
       "\n",
       "    .dataframe tbody tr th {\n",
       "        vertical-align: top;\n",
       "    }\n",
       "\n",
       "    .dataframe thead th {\n",
       "        text-align: right;\n",
       "    }\n",
       "</style>\n",
       "<table border=\"1\" class=\"dataframe\">\n",
       "  <thead>\n",
       "    <tr style=\"text-align: right;\">\n",
       "      <th></th>\n",
       "      <th>X1</th>\n",
       "      <th>X2</th>\n",
       "      <th>Y</th>\n",
       "    </tr>\n",
       "  </thead>\n",
       "  <tbody>\n",
       "    <tr>\n",
       "      <th>0</th>\n",
       "      <td>0.051267</td>\n",
       "      <td>0.69956</td>\n",
       "      <td>1.0</td>\n",
       "    </tr>\n",
       "    <tr>\n",
       "      <th>1</th>\n",
       "      <td>-0.092742</td>\n",
       "      <td>0.68494</td>\n",
       "      <td>1.0</td>\n",
       "    </tr>\n",
       "    <tr>\n",
       "      <th>2</th>\n",
       "      <td>-0.213710</td>\n",
       "      <td>0.69225</td>\n",
       "      <td>1.0</td>\n",
       "    </tr>\n",
       "    <tr>\n",
       "      <th>3</th>\n",
       "      <td>-0.375000</td>\n",
       "      <td>0.50219</td>\n",
       "      <td>1.0</td>\n",
       "    </tr>\n",
       "    <tr>\n",
       "      <th>4</th>\n",
       "      <td>-0.513250</td>\n",
       "      <td>0.46564</td>\n",
       "      <td>1.0</td>\n",
       "    </tr>\n",
       "  </tbody>\n",
       "</table>\n",
       "</div>"
      ],
      "text/plain": [
       "         X1       X2    Y\n",
       "0  0.051267  0.69956  1.0\n",
       "1 -0.092742  0.68494  1.0\n",
       "2 -0.213710  0.69225  1.0\n",
       "3 -0.375000  0.50219  1.0\n",
       "4 -0.513250  0.46564  1.0"
      ]
     },
     "execution_count": 3,
     "metadata": {},
     "output_type": "execute_result"
    }
   ],
   "source": [
    "df_for_regularized_reg_log.head()"
   ]
  },
  {
   "cell_type": "code",
   "execution_count": 4,
   "metadata": {},
   "outputs": [
    {
     "data": {
      "text/html": [
       "<div>\n",
       "<style scoped>\n",
       "    .dataframe tbody tr th:only-of-type {\n",
       "        vertical-align: middle;\n",
       "    }\n",
       "\n",
       "    .dataframe tbody tr th {\n",
       "        vertical-align: top;\n",
       "    }\n",
       "\n",
       "    .dataframe thead th {\n",
       "        text-align: right;\n",
       "    }\n",
       "</style>\n",
       "<table border=\"1\" class=\"dataframe\">\n",
       "  <thead>\n",
       "    <tr style=\"text-align: right;\">\n",
       "      <th></th>\n",
       "      <th>X1</th>\n",
       "      <th>X2</th>\n",
       "      <th>Y</th>\n",
       "    </tr>\n",
       "  </thead>\n",
       "  <tbody>\n",
       "    <tr>\n",
       "      <th>count</th>\n",
       "      <td>118.000000</td>\n",
       "      <td>118.000000</td>\n",
       "      <td>118.000000</td>\n",
       "    </tr>\n",
       "    <tr>\n",
       "      <th>mean</th>\n",
       "      <td>0.054779</td>\n",
       "      <td>0.183102</td>\n",
       "      <td>0.491525</td>\n",
       "    </tr>\n",
       "    <tr>\n",
       "      <th>std</th>\n",
       "      <td>0.496654</td>\n",
       "      <td>0.519743</td>\n",
       "      <td>0.502060</td>\n",
       "    </tr>\n",
       "    <tr>\n",
       "      <th>min</th>\n",
       "      <td>-0.830070</td>\n",
       "      <td>-0.769740</td>\n",
       "      <td>0.000000</td>\n",
       "    </tr>\n",
       "    <tr>\n",
       "      <th>25%</th>\n",
       "      <td>-0.372120</td>\n",
       "      <td>-0.254385</td>\n",
       "      <td>0.000000</td>\n",
       "    </tr>\n",
       "    <tr>\n",
       "      <th>50%</th>\n",
       "      <td>-0.006336</td>\n",
       "      <td>0.213455</td>\n",
       "      <td>0.000000</td>\n",
       "    </tr>\n",
       "    <tr>\n",
       "      <th>75%</th>\n",
       "      <td>0.478970</td>\n",
       "      <td>0.646563</td>\n",
       "      <td>1.000000</td>\n",
       "    </tr>\n",
       "    <tr>\n",
       "      <th>max</th>\n",
       "      <td>1.070900</td>\n",
       "      <td>1.108900</td>\n",
       "      <td>1.000000</td>\n",
       "    </tr>\n",
       "  </tbody>\n",
       "</table>\n",
       "</div>"
      ],
      "text/plain": [
       "               X1          X2           Y\n",
       "count  118.000000  118.000000  118.000000\n",
       "mean     0.054779    0.183102    0.491525\n",
       "std      0.496654    0.519743    0.502060\n",
       "min     -0.830070   -0.769740    0.000000\n",
       "25%     -0.372120   -0.254385    0.000000\n",
       "50%     -0.006336    0.213455    0.000000\n",
       "75%      0.478970    0.646563    1.000000\n",
       "max      1.070900    1.108900    1.000000"
      ]
     },
     "execution_count": 4,
     "metadata": {},
     "output_type": "execute_result"
    }
   ],
   "source": [
    "df_for_regularized_reg_log.describe()"
   ]
  },
  {
   "cell_type": "code",
   "execution_count": 6,
   "metadata": {},
   "outputs": [
    {
     "data": {
      "text/plain": [
       "<seaborn.axisgrid.PairGrid at 0x7f4c07baedd8>"
      ]
     },
     "execution_count": 6,
     "metadata": {},
     "output_type": "execute_result"
    },
    {
     "data": {
      "image/png": "[encoded data removed]",
      "text/plain": [
       "<matplotlib.figure.Figure at 0x7f4c07baed30>"
      ]
     },
     "metadata": {},
     "output_type": "display_data"
    }
   ],
   "source": [
    "import matplotlib.pyplot as plt\n",
    "import seaborn as sns\n",
    "sns.set(style=\"whitegrid\",color_codes=True)\n",
    "# sns.set(style=\"whitegrid\")\n",
    "sns.pairplot(x_vars=\"X1\", y_vars=\"X2\", hue=\"Y\", data=df_for_regularized_reg_log,size=5)"
   ]
  },
  {
   "cell_type": "markdown",
   "metadata": {},
   "source": [
    "### 2. Comment peut-on séparer les Y = 0 versus Y = 1 ?"
   ]
  },
  {
   "cell_type": "code",
   "execution_count": null,
   "metadata": {},
   "outputs": [],
   "source": []
  },
  {
   "cell_type": "code",
   "execution_count": 7,
   "metadata": {},
   "outputs": [],
   "source": [
    "# REPONSE : cf cours on pourrait séparer les Y = 0 et Y = 1 \n",
    "# observés par une droite s'il s'agissait d'un lien linéaire du type :"
   ]
  },
  {
   "cell_type": "markdown",
   "metadata": {},
   "source": [
    "$h_{\\theta}(x) =  g(\\theta_{0} + \\theta_{1}x_{1} + \\theta_{2}x_{2})$"
   ]
  },
  {
   "cell_type": "code",
   "execution_count": 8,
   "metadata": {},
   "outputs": [],
   "source": [
    "# Il va falloir approcher le nuage différemment\n",
    "# On parle de \"séparation\" de type non linéaire !\n",
    "# On va essayer de séparer les groupes de valeurs Y = 0 vs Y = 1 \n",
    "# grâce à une fonction un peu complexe de type polynômes faisant intervenir x1 et x2\n",
    "# et d'un degré d à choisir"
   ]
  },
  {
   "cell_type": "markdown",
   "metadata": {
    "collapsed": true
   },
   "source": [
    "#### Ci-dessous les modèles que l'on pourrait utiliser pour les degrés 1, 2, 3 et 4:\n",
    "$h_{\\theta}(x) = g(\\theta_0 + \\theta_1x_1 + \\theta_2x_2)$\n",
    "\n",
    "$h_{\\theta}(x) = g(\\theta_0 + \\theta_1x_1 + \\theta_2x_2 + \\theta_3x_1x_2 + \\theta_4x_2^2 + \\theta_5x_5^2)$\n",
    "\n",
    "$h_{\\theta}(x) = g(\\theta_0 + \\theta_1x_1 + \\theta_2x_2 + \\theta_3x_1x_2 + \\theta_4x_1^2 + \\theta_5x_2^2\n",
    "+ \\theta_6x_1^2x_2 + \\theta_7x_1x_2^2 + \\theta_8x_2^3 + \\theta_9x_2^3)$\n",
    "\n",
    "$h_{\\theta}(x) = g(\\theta_0 + \\theta_1x_1 + \\theta_2x_2 + \\theta_3x_1x_2 + \\theta_4x_1^2 + \\theta_5x_2^2\n",
    "+ \\theta_6x_1^2x_2 + \\theta_7x_1x_2^2 + \\theta_8x_1^3 + \\theta_9x_2^3 + \\theta_{10}x_1^3x_2 + \\theta_{11}x_1x_2^3\n",
    "+ \\theta_{12}x_1^4 + \\theta_{13}x_2^4)$"
   ]
  },
  {
   "cell_type": "markdown",
   "metadata": {},
   "source": [
    "### 3. Construisons des features de manière à \"fitter\" les données\n",
    "On va utiliser des termes polynomiaux de degré 6 en x1 et x2\n",
    "qui vont être des features pour le modèle"
   ]
  },
  {
   "cell_type": "markdown",
   "metadata": {},
   "source": [
    "### Le modèle va s'écrire :\n",
    "$h_{\\theta}(x) = g(\\theta_0 + \\theta_1x_1 + \\theta_2x_2 + \\theta_3x_1x_2 + \\theta_4x_1^2 + \\theta_5x_2^2\n",
    "+ \\theta_6x_1^2x_2 + \\theta_7x_1x_2^2 + \\theta_8x_1^3 + \\theta_9x_2^3 + \\theta_{10}x_1^3x_2 + \\theta_{11}x_1x_2^3\n",
    "+ \\theta_{12}x_1^4 + \\theta_{13}x_2^4 + \\theta_{14}x_1^4x_2 + \\theta_{15}x_1x_2^4 +  ...  + \\theta_{26}x_1^6 + \\theta_{27}x_2^6)$"
   ]
  },
  {
   "cell_type": "markdown",
   "metadata": {},
   "source": [
    "### 3.1 Combien cela va faire de features ?\n"
   ]
  },
  {
   "cell_type": "code",
   "execution_count": null,
   "metadata": {},
   "outputs": [],
   "source": []
  },
  {
   "cell_type": "code",
   "execution_count": 9,
   "metadata": {},
   "outputs": [],
   "source": [
    "# REPONSE:\n",
    "# - si on tient compte de la feature \"fictive\" (colonne des 1's), 28 features\n",
    "# - sinon 27 features"
   ]
  },
  {
   "cell_type": "markdown",
   "metadata": {},
   "source": [
    "#### Compléments mathématiques de cette réponse :\n",
    "#### Par récurrence, démontrons quel est le nombre de features en fonction du degré d du polynôme utilisé.\n",
    "Soit $d$ le degré du polynôme.\n",
    "Le nombre de features, c'est le nombre de termes de la forme : $x_{1}^{p_1}x_{2}^{p_2}$ avec $p_1 + p_2 \\leq d$\n",
    "que l'on peut construire. \n",
    "\n",
    "Remarque : on tient compte de la feature \"fictive\" lorsque $p_{1} = p_{2} = 0$\n",
    "\n",
    "Si $d = 1$ : \n",
    "- pour $p_{1} = 0$, $p_{2} = 0, 1$, soit 2 features\n",
    "- pour $p_{1} = 1$, $p_{2} = 0$, soit 1 feature\n",
    "\n",
    "Soit au total pour $d = 1$, $n_1 = 2 + 1 = 3$ features\n",
    "    \n",
    "Si $d = 2$ : \n",
    "- pour $p_{1} = 0$, $p_{2} = 0, 1, 2$, soit 3 features\n",
    "- pour $p_{1} = 1$, $p_{2} = 0, 1$, soit 2 features\n",
    "- pour $p_{1} = 2$, $p_{2} = 0$, soit 1 feature\n",
    "\n",
    "Soit au total pour $d = 2$, $n_2 = 3 + 2 + 1 = 6$ features\n",
    "    \n",
    "Si $d = 3$ : \n",
    "- pour $p_{1} = 0$, $p_{2} = 0, 1, 2, 3$, soit 4 features\n",
    "- pour $p_{1} = 1$, $p_{2} = 0, 1, 3$, soit  3 features\n",
    "- pour $p_{1} = 2$, $p_{2} = 0, 1$, soit 2 features\n",
    "- pour $p_{1} = 3$, $p_{2} = 0$, soit 1 feature\n",
    "\n",
    "Soit au total pour $d = 3$, $n_3 = 4 + 3 + 2 + 1 = 10$ features\n",
    "\n",
    "On remarque que pour un degré $d$ donné, le nombre de features est égal à :\n",
    "    $n_d = (d+1) + d + (d-1) +  ...  + 1$\n",
    "    \n",
    "Il s'agit d'une somme de termes d'une suite arithmétique :\n",
    "- de 1er terme = 1\n",
    "- de raison $r$ = 1\n",
    "\n",
    "Donc: $(d+1) + d + (d-1) + ... + 1 = \\frac{(d+1)[1 + (d+1)]}{2}$ car c'est la somme de $d+1$ termes consécutifs de cette suite arithmétique\n",
    "\n",
    "Par récurrence, supposons que si le degré du polynôme est $d$ et le nombre de features est égal à :\n",
    "$\\frac{(d+1)[1 + (d+1)]}{2}$\n",
    "\n",
    "Alors si le polynôme est de degré $d+1$, le nombre de features $n_{d+1}$ est égal à :\n",
    "$(d+2) + (d+1) + (d-1) + ... + 1 = \\frac{(d+2)[1 + (d+2)]}{2}$\n",
    "\n",
    "\n",
    "Ce qui démondre que si $d$ est le degré du polynôme, le nombre de features du modèle est : \n",
    "    \n",
    "$n_d = \\frac{(d+1)[1 + (d+1)]}{2}$\n",
    "    \n",
    "Et on retrouve que si d = 6, $n_6 = \\frac{7(1 + 7)}{2} = \\frac{56}{2} = 28$\n",
    "\n",
    "Soit 28 features si le polynôme est de degré d = 6.\n",
    "\n",
    "### 3.2 Construire la matrice X avec toutes les features"
   ]
  },
  {
   "cell_type": "code",
   "execution_count": null,
   "metadata": {},
   "outputs": [],
   "source": []
  },
  {
   "cell_type": "code",
   "execution_count": 10,
   "metadata": {},
   "outputs": [],
   "source": [
    "# REPONSE:\n",
    "X1 = mat_for_regularized_reg_log[:,0]\n",
    "X2 = mat_for_regularized_reg_log[:,1]"
   ]
  },
  {
   "cell_type": "code",
   "execution_count": null,
   "metadata": {},
   "outputs": [],
   "source": [
    "# Exemple unitaire à tester !\n",
    "# X1 = np.array([[2]])\n",
    "# X2 = np.array([[3]])"
   ]
  },
  {
   "cell_type": "code",
   "execution_count": null,
   "metadata": {},
   "outputs": [],
   "source": [
    "import numpy as np\n",
    "\n",
    "def build_features(X1,X2,degre):\n",
    "    \n",
    "    X_with_features = np.ones((X1.shape[0],1))\n",
    "    print (X_with_features.shape)\n",
    "    for i in range(1,degre+1):\n",
    "        for j in range(0,i+1):\n",
    "            TEMP = (X1**(i-j))*(X2**j)\n",
    "            TEMP = TEMP.reshape(TEMP.shape[0],1)\n",
    "            X_with_features = np.append(X_with_features, TEMP, axis=1)\n",
    "            print (X_with_features)\n",
    "            \n",
    "    return(X_with_features)\n",
    "X_with_features = build_features(X1,X2,3)"
   ]
  },
  {
   "cell_type": "code",
   "execution_count": 11,
   "metadata": {},
   "outputs": [
    {
     "data": {
      "text/plain": [
       "(118, 28)"
      ]
     },
     "execution_count": 11,
     "metadata": {},
     "output_type": "execute_result"
    }
   ],
   "source": [
    "# AUTRE CODE POSSIBLE !!!\n",
    "import numpy as np\n",
    "# X1 = np.array([[2]])\n",
    "# X2 = np.array([[3]])\n",
    "def build_features(X1,X2,degre):\n",
    "    \n",
    "#     X_with_features = np.ones((X1.shape[0],1))\n",
    "    X_with_features = np.empty([1,1])\n",
    "\n",
    "    for i in range(0,degre+1):\n",
    "#         print (\"i\",i)\n",
    "        j = 0\n",
    "        while (i + j) <= degre:\n",
    "#             print (\"j\",j)\n",
    "            TEMP = (X1**(i))*(X2**j)\n",
    "            TEMP = TEMP.reshape(TEMP.shape[0],1)\n",
    "            if i + j == 0:\n",
    "                X_with_features = TEMP\n",
    "            else:\n",
    "                X_with_features = np.append(X_with_features, TEMP, axis=1) \n",
    "#             print (X_with_features)\n",
    "            j+= 1\n",
    "#         print (\"\\n\")\n",
    "            \n",
    "    return(X_with_features)\n",
    "X_with_features = build_features(X1,X2,6)\n",
    "X_with_features.shape"
   ]
  },
  {
   "cell_type": "code",
   "execution_count": 12,
   "metadata": {},
   "outputs": [
    {
     "data": {
      "text/plain": [
       "(118, 28)"
      ]
     },
     "execution_count": 12,
     "metadata": {},
     "output_type": "execute_result"
    }
   ],
   "source": [
    "X_with_features.shape\n",
    "# a trouver : array([[  1.,   2.,   3.,   4.,   6.,   9.,   8.,  12.,  18.,  27.]])"
   ]
  },
  {
   "cell_type": "code",
   "execution_count": null,
   "metadata": {},
   "outputs": [],
   "source": [
    "X_with_features[0,0:X_with_features.shape[1]]"
   ]
  },
  {
   "cell_type": "markdown",
   "metadata": {},
   "source": [
    "### 4. Nous nous proposons de créer un modèle avec régularisation\n",
    "### 4.1 Pour cela :\n",
    "- implémenter la fonction de coût avec régularisation\n",
    "- implémenter le fonction gradient avec régularisation"
   ]
  },
  {
   "cell_type": "code",
   "execution_count": null,
   "metadata": {},
   "outputs": [],
   "source": []
  },
  {
   "cell_type": "code",
   "execution_count": null,
   "metadata": {},
   "outputs": [],
   "source": [
    "# REPONSE: "
   ]
  },
  {
   "cell_type": "markdown",
   "metadata": {},
   "source": [
    "### Rappels:\n",
    "- l'expression de la fonction de coût avec régularisation est :\n",
    "$$J = \\frac{−𝟏}{𝒎}[\\sum_{𝒊=𝟏}^{𝒎}(𝒚^{(𝒊)}\\log(𝒉_{𝜽}(𝒙^{(𝒊)}))  + (1 – 𝒚^{(𝒊)})\\log(1 − 𝒉_{\\theta}(𝒙^{(𝒊)}))] + \\frac{\\lambda}{2m}\\sum_{j=𝟏}^{n}\\theta_{j}^2$$ \n",
    "- l'expression du gradient avec régularisation s'écrit:\n",
    "$$\\frac{\\partial J(\\theta_{0},\\theta_{1},...,\\theta_{n})}{\\partial \\theta_{0}} = \\frac{𝟏}{𝒎}\\sum_{𝒊=𝟏}^{𝒎}(𝒉_{𝜽}(𝒙^{(𝒊)}) -  𝒚^{(𝒊)})x_{0}^{(i)}$$ \n",
    "$$j\\ge 1, \\frac{\\partial J(\\theta_{0},\\theta_{1},...,\\theta_{n})}{\\partial \\theta_{j}} = \\frac{𝟏}{𝒎}\\sum_{𝒊=𝟏}^{𝒎}(𝒉_{𝜽}(𝒙^{(𝒊)}) -  𝒚^{(𝒊)})x_{j}^{(i)} + \\frac{\\lambda}{m}\\theta_j$$                                                "
   ]
  },
  {
   "cell_type": "markdown",
   "metadata": {},
   "source": [
    "### 4.2 Utiliser la régularisation avec : $$\\lambda = 1$$"
   ]
  },
  {
   "cell_type": "markdown",
   "metadata": {},
   "source": [
    "### Utiliser l'algorithme d'optimisation \"gradient conjugué\" pour estimer les paramètres \"theta\""
   ]
  },
  {
   "cell_type": "code",
   "execution_count": null,
   "metadata": {},
   "outputs": [],
   "source": []
  },
  {
   "cell_type": "code",
   "execution_count": 13,
   "metadata": {},
   "outputs": [
    {
     "data": {
      "text/plain": [
       "(118, 1)"
      ]
     },
     "execution_count": 13,
     "metadata": {},
     "output_type": "execute_result"
    }
   ],
   "source": [
    "# REPONSE:\n",
    "\n",
    "# NB) X_with_features contient déjà la colonne des 1's\n",
    "\n",
    "# On initialise THETA à zéro \n",
    "dim = 28 # car on a 28 features donc il y a un intercept + 27 autres paramètres à estimer\n",
    "\n",
    "# mais ici on compte la colonne de 1's comme une feature !!!\n",
    "THETA = np.zeros((dim,1))\n",
    "# On définit la variable cible Y observée sur l'échantillon d'apprentissage\n",
    "Y = mat_for_regularized_reg_log[:,2]\n",
    "\n",
    "Y = Y.reshape(Y.shape[0],1)\n",
    "Y.shape"
   ]
  },
  {
   "cell_type": "code",
   "execution_count": 21,
   "metadata": {},
   "outputs": [
    {
     "data": {
      "text/plain": [
       "(118, 28)"
      ]
     },
     "execution_count": 21,
     "metadata": {},
     "output_type": "execute_result"
    }
   ],
   "source": [
    "X_with_features.shape"
   ]
  },
  {
   "cell_type": "code",
   "execution_count": 22,
   "metadata": {},
   "outputs": [],
   "source": [
    "def fun_sigmoid(x):\n",
    "    sigmoid_value = 1/(1 + np.exp(-x))\n",
    "    return(sigmoid_value)"
   ]
  },
  {
   "cell_type": "code",
   "execution_count": 23,
   "metadata": {},
   "outputs": [],
   "source": [
    "lambda_value = 1\n",
    "\n",
    "def computeCostGradRegularized(THETA,X,Y,lambda_value):\n",
    "    m = X.shape[0]    \n",
    "    PRED = fun_sigmoid(np.dot(X,THETA))\n",
    "\n",
    "    LAMBDA_GRAD = (lambda_value/m)*THETA\n",
    "    LAMBDA_GRAD[0,0] = 0\n",
    "    \n",
    "    # Fonction de coût J\n",
    "    J = ((-1)/m) * Y.T.dot(np.log(PRED)) + ((-1)/m) * np.dot((1 - Y).T, np.log(1 - PRED)) + (lambda_value/2*m)*np.sum(THETA**2,axis = 0) \n",
    "    \n",
    "    GRAD = (1/m)*(X.T.dot(PRED - Y)) + LAMBDA_GRAD\n",
    "    \n",
    "    return (GRAD,J)\n",
    "# Appliquer avec:\n",
    "GRAD, J = computeCostGradRegularized(THETA,X_with_features,Y,lambda_value)"
   ]
  },
  {
   "cell_type": "code",
   "execution_count": 24,
   "metadata": {},
   "outputs": [
    {
     "name": "stdout",
     "output_type": "stream",
     "text": [
      "La valeur de J initiale vaut :  [[ 0.69314718]]\n"
     ]
    }
   ],
   "source": [
    "print (\"La valeur de J initiale vaut : \", J)"
   ]
  },
  {
   "cell_type": "code",
   "execution_count": 25,
   "metadata": {},
   "outputs": [
    {
     "name": "stdout",
     "output_type": "stream",
     "text": [
      "CPU times: user 8 ms, sys: 0 ns, total: 8 ms\n",
      "Wall time: 7.88 ms\n"
     ]
    }
   ],
   "source": [
    "%%time\n",
    "# REPONSE :\n",
    "\n",
    "import scipy.optimize as op\n",
    "\n",
    "def initialize_to_zeros(dim):\n",
    "    THETA = np.zeros((dim,1))\n",
    "    return(THETA)\n",
    "\n",
    "INITIAL_THETA = initialize_to_zeros(dim)\n",
    "\n",
    "def computeCost(THETA,X,Y):\n",
    "    THETA = THETA.reshape(THETA.shape[0],1)\n",
    "    J = computeCostGradRegularized(THETA, X, Y,lambda_value)[1]\n",
    "    return (J.ravel())\n",
    "\n",
    "def computeGrad(THETA,X,Y):\n",
    "    THETA = THETA.reshape(THETA.shape[0],1)\n",
    "    GRAD = computeCostGradRegularized(THETA, X, Y,lambda_value)[0]\n",
    "    return (GRAD.ravel())\n",
    "\n",
    "# https://docs.scipy.org/doc/scipy-0.14.0/reference/generated/scipy.optimize.fmin_tnc.html\n",
    "# ATTENTION, les fonctions de coût et gradient\n",
    "# utilisées par \"op.fmin_tnc doivent être des 1D numpy.array !\n",
    "# Idem pour le paramètre initial \"theta\"\n",
    "\n",
    "# \"op.fmin_tnc\" renvoit en sortie un 1D numpy.array\n",
    "\n",
    "THETA_RESULT = op.fmin_tnc(computeCost,INITIAL_THETA.ravel(), computeGrad, args=(X_with_features, Y))"
   ]
  },
  {
   "cell_type": "code",
   "execution_count": 26,
   "metadata": {},
   "outputs": [
    {
     "name": "stdout",
     "output_type": "stream",
     "text": [
      "Les paramètres estimés pour lambda =  1 sont: [  2.49642223e-04   2.77015868e-04  -2.48689386e-04  -2.03232570e-05\n",
      "  -2.29977604e-04  -9.08332442e-05  -1.85528557e-04   1.37412086e-04\n",
      "  -1.62449225e-04  -7.34919208e-05  -4.36568402e-05  -5.21231371e-05\n",
      "  -1.78750595e-05  -4.35864210e-04  -7.16771356e-05  -1.31827328e-04\n",
      "  -5.59544792e-05  -6.91289532e-05   3.40752511e-05  -1.49838910e-05\n",
      "  -1.87923304e-05  -8.84416193e-07  -3.10561873e-04  -4.33024174e-05\n",
      "  -6.54198245e-05  -3.43135194e-05   2.17303223e-06  -2.10980625e-04]\n"
     ]
    }
   ],
   "source": [
    "print (\"Les paramètres estimés pour lambda = \",lambda_value, \"sont:\" ,THETA_RESULT[0])"
   ]
  },
  {
   "cell_type": "code",
   "execution_count": 13,
   "metadata": {},
   "outputs": [
    {
     "data": {
      "text/plain": [
       "array([[ 0.69311828]])"
      ]
     },
     "execution_count": 13,
     "metadata": {},
     "output_type": "execute_result"
    }
   ],
   "source": [
    "J = computeCostGradRegularized(THETA_RESULT[0].reshape(THETA_RESULT[0].shape[0],1), X_with_features, Y,lambda_value)[1]\n",
    "J "
   ]
  },
  {
   "cell_type": "markdown",
   "metadata": {},
   "source": [
    "### 5. Représenter graphiquement la prédiction obtenue par la séparation entre les valeurs observées Y = 0 versus Y = 1 "
   ]
  },
  {
   "cell_type": "code",
   "execution_count": null,
   "metadata": {},
   "outputs": [],
   "source": []
  },
  {
   "cell_type": "code",
   "execution_count": null,
   "metadata": {},
   "outputs": [],
   "source": [
    "# REPONSE :\n",
    "\n",
    "# Représentons graphiquement l'ensemble des points (x1, x2, z) avec :"
   ]
  },
  {
   "cell_type": "markdown",
   "metadata": {},
   "source": [
    "avec :\n",
    "\n",
    "$z = \\theta_0 + \\theta_1x_1 + \\theta_2x_2 + \\theta_3x_1x_2 + \\theta_4x_1^2 + \\theta_5x_2^2\n",
    "+ \\theta_6x_1^2x_2 + \\theta_7x_1x_2^2 + \\theta_8x_1^3 + \\theta_9x_2^3 + \\theta_{10}x_1^3x_2 + \\theta_{11}x_1x_2^3\n",
    "+ \\theta_{12}x_1^4 + \\theta_{13}x_2^4 + \\theta_{14}x_1^4x_2 + \\theta_{15}x_1x_2^4 +  ...  + \\theta_{26}x_1^6 + \\theta_{27}x_2^6$"
   ]
  },
  {
   "cell_type": "code",
   "execution_count": 27,
   "metadata": {},
   "outputs": [
    {
     "data": {
      "text/plain": [
       "<matplotlib.contour.QuadContourSet at 0x7f4c07a97550>"
      ]
     },
     "execution_count": 27,
     "metadata": {},
     "output_type": "execute_result"
    },
    {
     "data": {
      "image/png": "[encoded data removed]",
      "text/plain": [
       "<matplotlib.figure.Figure at 0x7f4c07b2bba8>"
      ]
     },
     "metadata": {},
     "output_type": "display_data"
    }
   ],
   "source": [
    "# del features\n",
    "\n",
    "import matplotlib.pyplot as plt\n",
    "nb_points = 100\n",
    "# - un range de valeurs pour les x\n",
    "# - un range de valeurs pour les y\n",
    "all_x = np.linspace(-0.85,1.1,nb_points).reshape(nb_points,1)\n",
    "all_y = np.linspace(-0.77,1.2,nb_points).reshape(nb_points,1)\n",
    "\n",
    "Z_GRID = np.zeros((len(all_x),len(all_y)))\n",
    "\n",
    "for i in range(0,len(all_x)):\n",
    "    for j in range(0,len(all_y)):\n",
    "            \n",
    "        features = build_features(all_x[i],all_y[j],6)\n",
    "        \n",
    "        # C'est l'écriture matricielle des \"z\" de la cellule ci-dessus\n",
    "        Z_GRID[i][j] = np.dot(features,THETA_RESULT[0].reshape(THETA_RESULT[0].shape[0],1))[0][0]\n",
    "        \n",
    "plt.contour(all_x.ravel(),all_y.ravel(),Z_GRID)"
   ]
  },
  {
   "cell_type": "code",
   "execution_count": 28,
   "metadata": {},
   "outputs": [
    {
     "data": {
      "text/plain": [
       "(100, 100)"
      ]
     },
     "execution_count": 28,
     "metadata": {},
     "output_type": "execute_result"
    }
   ],
   "source": [
    "Z_GRID.shape"
   ]
  },
  {
   "cell_type": "markdown",
   "metadata": {},
   "source": [
    "Enfin, on trace les points (x1,x2,z) tels que :\n",
    "avec :\n",
    "\n",
    "$z = \\theta_0 + \\theta_1x_1 + \\theta_2x_2 + \\theta_3x_1x_2 + \\theta_4x_1^2 + \\theta_5x_2^2\n",
    "+ \\theta_6x_1^2x_2 + \\theta_7x_1x_2^2 + \\theta_8x_1^3 + \\theta_9x_2^3 + \\theta_{10}x_1^3x_2 + \\theta_{11}x_1x_2^3\n",
    "+ \\theta_{12}x_1^4 + \\theta_{13}x_2^4 + \\theta_{14}x_1^4x_2 + \\theta_{15}x_1x_2^4 +  ...  + \\theta_{26}x_1^6 + \\theta_{27}x_2^6$\n",
    "\n",
    "Avec la contrainte  $ z= g^{-1}(0.5)$ et sachant que $g^{-1}(0.5) = 0$\n",
    "\n",
    "Il s'agit donc des points (x1,x2) tels que :\n",
    "\n",
    "$\\theta_0 + \\theta_1x_1 + \\theta_2x_2 + \\theta_3x_1x_2 + \\theta_4x_1^2 + \\theta_5x_2^2\n",
    "+ \\theta_6x_1^2x_2 + \\theta_7x_1x_2^2 + \\theta_8x_1^3 + \\theta_9x_2^3 + \\theta_{10}x_1^3x_2 + \\theta_{11}x_1x_2^3\n",
    "+ \\theta_{12}x_1^4 + \\theta_{13}x_2^4 + \\theta_{14}x_1^4x_2 + \\theta_{15}x_1x_2^4 +  ...  + \\theta_{26}x_1^6 + \\theta_{27}x_2^6 = 0$\n"
   ]
  },
  {
   "cell_type": "code",
   "execution_count": 29,
   "metadata": {},
   "outputs": [
    {
     "data": {
      "text/plain": [
       "<matplotlib.contour.QuadContourSet at 0x7f4c07aabfd0>"
      ]
     },
     "execution_count": 29,
     "metadata": {},
     "output_type": "execute_result"
    },
    {
     "data": {
      "image/png": "[encoded data removed]",
      "text/plain": [
       "<matplotlib.figure.Figure at 0x7f4c07aab278>"
      ]
     },
     "metadata": {},
     "output_type": "display_data"
    }
   ],
   "source": [
    "import matplotlib.pyplot as plt\n",
    "import seaborn as sns\n",
    "sns.set(style=\"whitegrid\",color_codes=True)\n",
    "\n",
    "sns.pairplot(x_vars=\"X1\", y_vars=\"X2\", hue=\"Y\", data=df_for_regularized_reg_log,size=5)\n",
    "plt.contour(all_x.ravel(),all_y.ravel(),Z_GRID,[-1e-6,1e6])"
   ]
  },
  {
   "cell_type": "code",
   "execution_count": 30,
   "metadata": {},
   "outputs": [],
   "source": [
    "# Lorsque lambda = 1 :\n",
    "\n",
    "# on constate que la courbe de séparation des points, sépare de manière assez \"grossière\" les points ayant comme valeurs observées\n",
    "# Y = 1 des points ayant comme valeurs observées Y = 0 "
   ]
  },
  {
   "cell_type": "markdown",
   "metadata": {},
   "source": [
    "### 5.3 Quel est le % d'observations correctement prédites ?"
   ]
  },
  {
   "cell_type": "code",
   "execution_count": null,
   "metadata": {},
   "outputs": [],
   "source": []
  },
  {
   "cell_type": "code",
   "execution_count": 31,
   "metadata": {},
   "outputs": [
    {
     "data": {
      "text/plain": [
       "80.508474576271183"
      ]
     },
     "execution_count": 31,
     "metadata": {},
     "output_type": "execute_result"
    }
   ],
   "source": [
    "# REPONSE:\n",
    "# ATTENTION: THETA_RESULT est un 1D numpy.array\n",
    "PRED = fun_sigmoid(X_with_features.dot(THETA_RESULT[0].reshape(THETA_RESULT[0].shape[0],1)))\n",
    "PRED_Y = np.zeros((PRED.shape[0],1))\n",
    "i = 0\n",
    "for pred in PRED.ravel():\n",
    "    if pred >= 0.5:\n",
    "        PRED_Y[i,0] = 1\n",
    "    else:\n",
    "        PRED_Y[i,0] = 0\n",
    "    i+=1 # i = i + 1\n",
    "    \n",
    "# % d'observations correctement prédites sur l'échantillon d'apprentissage pour lambda = 1\n",
    "(np.sum(PRED_Y == Y)/Y.shape[0])*100"
   ]
  },
  {
   "cell_type": "markdown",
   "metadata": {},
   "source": [
    "### 6. Estimer les paramètres du modèle pour successivement :\n",
    "\n",
    "- $\\lambda = 0$\n",
    "- $\\lambda = 100$"
   ]
  },
  {
   "cell_type": "code",
   "execution_count": null,
   "metadata": {},
   "outputs": [],
   "source": []
  },
  {
   "cell_type": "markdown",
   "metadata": {},
   "source": [
    "### 7. Représenter graphiquement les séparations prédites pour chaque cas:\n",
    "\n",
    "- $\\lambda = 0$\n",
    "- $\\lambda = 100$"
   ]
  },
  {
   "cell_type": "code",
   "execution_count": 32,
   "metadata": {},
   "outputs": [],
   "source": [
    "# REPONSE:\n",
    "# On relance avec lambda = 0\n",
    "\n",
    "lambda_value = 0\n",
    "\n",
    "def computeCostGradRegularized(THETA,X,Y,lambda_value):\n",
    "    m = X.shape[0]    \n",
    "    PRED = fun_sigmoid(np.dot(X,THETA))\n",
    "\n",
    "    LAMBDA_GRAD = (lambda_value/m)*THETA\n",
    "    LAMBDA_GRAD[0,0] = 0\n",
    "    \n",
    "    # Fonction de coût J\n",
    "    J = ((-1)/m) * Y.T.dot(np.log(PRED)) + ((-1)/m) * np.dot((1 - Y).T, np.log(1 - PRED)) + (lambda_value/2*m)*np.sum(THETA**2,axis = 0) \n",
    "    \n",
    "    GRAD = (1/m)*(X.T.dot(PRED - Y)) + LAMBDA_GRAD\n",
    "    \n",
    "    return (GRAD,J)\n",
    "# Appliquer avec:\n",
    "GRAD, J = computeCostGradRegularized(THETA,X_with_features,Y,lambda_value)"
   ]
  },
  {
   "cell_type": "code",
   "execution_count": 33,
   "metadata": {},
   "outputs": [
    {
     "name": "stdout",
     "output_type": "stream",
     "text": [
      "La valeur de J initiale vaut :  [[ 0.69314718]]\n"
     ]
    }
   ],
   "source": [
    "print (\"La valeur de J initiale vaut : \", J)"
   ]
  },
  {
   "cell_type": "code",
   "execution_count": 34,
   "metadata": {},
   "outputs": [
    {
     "name": "stdout",
     "output_type": "stream",
     "text": [
      "CPU times: user 24 ms, sys: 4 ms, total: 28 ms\n",
      "Wall time: 25.2 ms\n"
     ]
    }
   ],
   "source": [
    "%%time\n",
    "# REPONSE :\n",
    "# https://stackoverflow.com/questions/18801002/fminunc-alternate-in-numpy\n",
    "import scipy.optimize as op\n",
    "\n",
    "def initialize_to_zeros(dim):\n",
    "    THETA = np.zeros((dim,1))\n",
    "    return(THETA)\n",
    "\n",
    "INITIAL_THETA = initialize_to_zeros(dim)\n",
    "\n",
    "def computeCost(THETA,X,Y):\n",
    "    THETA = THETA.reshape(THETA.shape[0],1)\n",
    "    J = computeCostGradRegularized(THETA, X, Y,lambda_value)[1]\n",
    "    return (J.ravel())\n",
    "\n",
    "def computeGrad(THETA,X,Y):\n",
    "    THETA = THETA.reshape(THETA.shape[0],1)\n",
    "    GRAD = computeCostGradRegularized(THETA, X, Y,lambda_value)[0]\n",
    "    return (GRAD.ravel())\n",
    "\n",
    "\n",
    "# https://docs.scipy.org/doc/scipy-0.14.0/reference/generated/scipy.optimize.fmin_tnc.html\n",
    "# ATTENTION, les fonctions de coût et gradient\n",
    "# utilisées par \"op.fmin_tnc doivent être des 1D numpy.array !\n",
    "# Idem pour le paramètre initial \"theta\"\n",
    "\n",
    "# \"op.fmin_tnc\" renvoit en sortie un 1D numpy.array\n",
    "THETA_RESULT = op.fmin_tnc(computeCost,INITIAL_THETA.ravel(), computeGrad, args=(X_with_features, Y))"
   ]
  },
  {
   "cell_type": "code",
   "execution_count": 35,
   "metadata": {},
   "outputs": [
    {
     "data": {
      "text/plain": [
       "array([[ 0.25535583]])"
      ]
     },
     "execution_count": 35,
     "metadata": {},
     "output_type": "execute_result"
    }
   ],
   "source": [
    "J = computeCostGradRegularized(THETA_RESULT[0].reshape(THETA_RESULT[0].shape[0],1), X_with_features, Y,lambda_value)[1]\n",
    "J "
   ]
  },
  {
   "cell_type": "code",
   "execution_count": 36,
   "metadata": {},
   "outputs": [
    {
     "name": "stdout",
     "output_type": "stream",
     "text": [
      "Les paramètres estimés pour lambda =  0 sont: [   11.93948412     7.50631759   -38.84323658     5.64501221    31.25416394\n",
      "   -15.64854291    -9.26585723    18.21938187   -76.8947949    -54.68804378\n",
      "   230.04794088     8.39254033  -188.88317466  -127.78924908  -137.64273646\n",
      "   495.07208509   184.47154666  -547.56980216  -156.53749941   483.89573686\n",
      "   461.86763001  -849.05706255   482.98604487   460.19123024 -1156.83066421\n",
      "   294.8272659   -875.28229616  -599.00576419]\n"
     ]
    }
   ],
   "source": [
    "print (\"Les paramètres estimés pour lambda = \",lambda_value, \"sont:\" ,THETA_RESULT[0])"
   ]
  },
  {
   "cell_type": "code",
   "execution_count": 37,
   "metadata": {},
   "outputs": [
    {
     "data": {
      "text/plain": [
       "86.440677966101703"
      ]
     },
     "execution_count": 37,
     "metadata": {},
     "output_type": "execute_result"
    }
   ],
   "source": [
    "PRED = fun_sigmoid(X_with_features.dot(THETA_RESULT[0].reshape(THETA_RESULT[0].shape[0],1)))\n",
    "PRED_Y = np.zeros((PRED.shape[0],1))\n",
    "i = 0\n",
    "for pred in PRED.ravel():\n",
    "    if pred >= 0.5:\n",
    "        PRED_Y[i,0] = 1\n",
    "    else:\n",
    "        PRED_Y[i,0] = 0\n",
    "    i+=1 # i = i + 1\n",
    "    \n",
    "# % d'observations correctement prédites sur l'échantillon d'apprentissage pour lambda = 0\n",
    "(np.sum(PRED_Y == Y)/Y.shape[0])*100"
   ]
  },
  {
   "cell_type": "code",
   "execution_count": 26,
   "metadata": {},
   "outputs": [],
   "source": [
    "# On constate que le % d'observations correctement prédites, du modèle est plus élevé (86.4 % pour lambda = 0 versus 80.5 % pour lambda = 1) sur l'échantillon d'apprentissage :\n",
    "# le modèle fait du sur-apprentissage"
   ]
  },
  {
   "cell_type": "code",
   "execution_count": 38,
   "metadata": {},
   "outputs": [
    {
     "data": {
      "text/plain": [
       "<matplotlib.contour.QuadContourSet at 0x7f4c07a3f4a8>"
      ]
     },
     "execution_count": 38,
     "metadata": {},
     "output_type": "execute_result"
    },
    {
     "data": {
      "image/png": "[encoded data removed]",
      "text/plain": [
       "<matplotlib.figure.Figure at 0x7f4c07a1e358>"
      ]
     },
     "metadata": {},
     "output_type": "display_data"
    }
   ],
   "source": [
    "import matplotlib.pyplot as plt\n",
    "nb_points = 100\n",
    "# nb_points = 10\n",
    "# - un range de valeurs pour les x\n",
    "# - un range de valeurs pour les y\n",
    "all_x = np.linspace(-0.85,1.1,nb_points).reshape(nb_points,1)\n",
    "all_y = np.linspace(-0.77,1.2,nb_points).reshape(nb_points,1)\n",
    "\n",
    "PRED_GRID = np.zeros((len(all_x),len(all_y)))\n",
    "\n",
    "for i in range(0,len(all_x)):\n",
    "    for j in range(0,len(all_y)):\n",
    "            \n",
    "        features = build_features(all_x[i],all_y[j],6)\n",
    "        \n",
    "        Z_GRID[i][j] = np.dot(features,THETA_RESULT[0].reshape(THETA_RESULT[0].shape[0],1))[0][0]\n",
    "        \n",
    "plt.contour(all_x.ravel(),all_y.ravel(),Z_GRID)"
   ]
  },
  {
   "cell_type": "code",
   "execution_count": 39,
   "metadata": {},
   "outputs": [
    {
     "data": {
      "text/plain": [
       "(28, 1)"
      ]
     },
     "execution_count": 39,
     "metadata": {},
     "output_type": "execute_result"
    }
   ],
   "source": [
    "THETA.shape"
   ]
  },
  {
   "cell_type": "code",
   "execution_count": 40,
   "metadata": {},
   "outputs": [],
   "source": [
    "# Z_GRID"
   ]
  },
  {
   "cell_type": "code",
   "execution_count": 41,
   "metadata": {},
   "outputs": [
    {
     "data": {
      "text/plain": [
       "<matplotlib.contour.QuadContourSet at 0x7f4c07aab7f0>"
      ]
     },
     "execution_count": 41,
     "metadata": {},
     "output_type": "execute_result"
    },
    {
     "data": {
      "image/png": "[encoded data removed]",
      "text/plain": [
       "<matplotlib.figure.Figure at 0x7f4c079de080>"
      ]
     },
     "metadata": {},
     "output_type": "display_data"
    }
   ],
   "source": [
    "import matplotlib.pyplot as plt\n",
    "import seaborn as sns\n",
    "sns.set(style=\"whitegrid\",color_codes=True)\n",
    "\n",
    "sns.pairplot(x_vars=\"X1\", y_vars=\"X2\", hue=\"Y\", data=df_for_regularized_reg_log,size=5)\n",
    "plt.contour(all_x.ravel(),all_y.ravel(),Z_GRID,[-1e-6,1e6])"
   ]
  },
  {
   "cell_type": "code",
   "execution_count": null,
   "metadata": {},
   "outputs": [],
   "source": [
    "# Lorsque lambda = 0 :\n",
    "\n",
    "# on constate bien le sur-apprentissage car la courbe de séparation sépare de manière \"fine\" les points ayant comme valeurs observées\n",
    "# Y = 1 des points ayant comme valeurs observées Y = 0"
   ]
  },
  {
   "cell_type": "code",
   "execution_count": 42,
   "metadata": {},
   "outputs": [],
   "source": [
    "# On relance avec lambda = 100\n",
    "\n",
    "lambda_value = 100\n",
    "\n",
    "def computeCostGradRegularized(THETA,X,Y,lambda_value):\n",
    "    m = X.shape[0]    \n",
    "    PRED = fun_sigmoid(np.dot(X,THETA))\n",
    "\n",
    "    LAMBDA_GRAD = (lambda_value/m)*THETA\n",
    "    LAMBDA_GRAD[0,0] = 0\n",
    "    \n",
    "    # Fonction de coût J\n",
    "    J = ((-1)/m) * Y.T.dot(np.log(PRED)) + ((-1)/m) * np.dot((1 - Y).T, np.log(1 - PRED)) + (lambda_value/2*m)*np.sum(THETA**2,axis = 0) \n",
    "      \n",
    "    GRAD = (1/m)*(X.T.dot(PRED - Y)) + LAMBDA_GRAD\n",
    "    \n",
    "    return (GRAD,J)\n",
    "# Appliquer avec:\n",
    "GRAD, J = computeCostGradRegularized(THETA,X_with_features,Y,lambda_value)"
   ]
  },
  {
   "cell_type": "code",
   "execution_count": 43,
   "metadata": {},
   "outputs": [
    {
     "name": "stdout",
     "output_type": "stream",
     "text": [
      "CPU times: user 8 ms, sys: 0 ns, total: 8 ms\n",
      "Wall time: 8.34 ms\n"
     ]
    }
   ],
   "source": [
    "%%time\n",
    "# REPONSE :\n",
    "# https://stackoverflow.com/questions/18801002/fminunc-alternate-in-numpy\n",
    "import scipy.optimize as op\n",
    "\n",
    "def initialize_to_zeros(dim):\n",
    "    THETA = np.zeros((dim,1))\n",
    "    return(THETA)\n",
    "\n",
    "INITIAL_THETA = initialize_to_zeros(dim)\n",
    "\n",
    "def computeCost(THETA,X,Y):\n",
    "    THETA = THETA.reshape(THETA.shape[0],1)\n",
    "    J = computeCostGradRegularized(THETA, X, Y,lambda_value)[1]\n",
    "    return (J.ravel())\n",
    "\n",
    "def computeGrad(THETA,X,Y):\n",
    "    THETA = THETA.reshape(THETA.shape[0],1)\n",
    "    GRAD = computeCostGradRegularized(THETA, X, Y,lambda_value)[0]\n",
    "    return (GRAD.ravel())\n",
    "\n",
    "\n",
    "# https://docs.scipy.org/doc/scipy-0.14.0/reference/generated/scipy.optimize.fmin_tnc.html\n",
    "# ATTENTION, les fonctions de coût et gradient\n",
    "# utilisées par \"op.fmin_tnc doivent être des 1D numpy.array !\n",
    "# Idem pour le paramètre initial \"theta\"\n",
    "\n",
    "# \"op.fmin_tnc\" renvoit en sortie un 1D numpy.array\n",
    "THETA_RESULT = op.fmin_tnc(computeCost,INITIAL_THETA.ravel(), computeGrad, args=(X_with_features, Y))"
   ]
  },
  {
   "cell_type": "code",
   "execution_count": 44,
   "metadata": {},
   "outputs": [
    {
     "data": {
      "text/plain": [
       "array([[ 0.69314679]])"
      ]
     },
     "execution_count": 44,
     "metadata": {},
     "output_type": "execute_result"
    }
   ],
   "source": [
    "J = computeCostGradRegularized(THETA_RESULT[0].reshape(THETA_RESULT[0].shape[0],1), X_with_features, Y,lambda_value)[1]\n",
    "J "
   ]
  },
  {
   "cell_type": "code",
   "execution_count": 45,
   "metadata": {},
   "outputs": [
    {
     "name": "stdout",
     "output_type": "stream",
     "text": [
      "Les paramètres estimés pour lambda =  100 sont: [  2.80288366e-07   1.19522604e-06  -4.35586912e-06  -2.56284679e-06\n",
      "  -4.92172719e-06  -3.79087306e-06  -4.94728798e-06  -2.05609602e-06\n",
      "  -1.70320403e-06  -1.10594211e-06  -4.57304774e-07  -6.32965549e-07\n",
      "  -2.04808630e-07  -6.63748167e-06  -9.15885231e-07  -1.71675993e-06\n",
      "  -7.65809042e-07  -9.74377950e-07  -2.21189076e-06  -2.99639813e-07\n",
      "  -4.37902122e-07  -4.84926560e-08  -5.33382830e-06  -5.75500947e-07\n",
      "  -8.63375667e-07  -2.56391922e-06  -1.32363083e-07  -4.21777893e-06]\n"
     ]
    }
   ],
   "source": [
    "print (\"Les paramètres estimés pour lambda = \",lambda_value, \"sont:\" ,THETA_RESULT[0])"
   ]
  },
  {
   "cell_type": "code",
   "execution_count": 46,
   "metadata": {},
   "outputs": [],
   "source": [
    "# On constate que les coefficients \"theta\" deviennent très petits lorsque lambda vaut 100"
   ]
  },
  {
   "cell_type": "code",
   "execution_count": 47,
   "metadata": {},
   "outputs": [
    {
     "data": {
      "text/plain": [
       "56.779661016949156"
      ]
     },
     "execution_count": 47,
     "metadata": {},
     "output_type": "execute_result"
    }
   ],
   "source": [
    "# ATTENTION: THETA_RESULT est un 1D numpy.array\n",
    "PRED = fun_sigmoid(X_with_features.dot(THETA_RESULT[0].reshape(THETA_RESULT[0].shape[0],1)))\n",
    "PRED_Y = np.zeros((PRED.shape[0],1))\n",
    "i = 0\n",
    "for pred in PRED.ravel():\n",
    "    if pred >= 0.5:\n",
    "        PRED_Y[i,0] = 1\n",
    "    else:\n",
    "        PRED_Y[i,0] = 0\n",
    "    i+=1 # i = i + 1\n",
    "    \n",
    "# % d'observations correctement prédites sur l'échantillon d'apprentissage pour lambda = 1\n",
    "(np.sum(PRED_Y == Y)/Y.shape[0])*100"
   ]
  },
  {
   "cell_type": "code",
   "execution_count": 35,
   "metadata": {},
   "outputs": [],
   "source": [
    "#  Le % d'observations correctement prédites, est descendu à 56.8  % lorsque lambda = 100"
   ]
  },
  {
   "cell_type": "code",
   "execution_count": 48,
   "metadata": {},
   "outputs": [
    {
     "data": {
      "text/plain": [
       "<matplotlib.contour.QuadContourSet at 0x7f4c07959160>"
      ]
     },
     "execution_count": 48,
     "metadata": {},
     "output_type": "execute_result"
    },
    {
     "data": {
      "image/png": "[encoded data removed]",
      "text/plain": [
       "<matplotlib.figure.Figure at 0x7f4c079ac978>"
      ]
     },
     "metadata": {},
     "output_type": "display_data"
    }
   ],
   "source": [
    "import matplotlib.pyplot as plt\n",
    "nb_points = 10\n",
    "# - un range de valeurs pour les x\n",
    "# - un range de valeurs pour les y\n",
    "all_x = np.linspace(-0.85,1.1,nb_points).reshape(nb_points,1)\n",
    "all_y = np.linspace(-0.77,1.2,nb_points).reshape(nb_points,1)\n",
    "\n",
    "Z_GRID = np.zeros((len(all_x),len(all_y)))\n",
    "\n",
    "for i in range(0,len(all_x)):\n",
    "    for j in range(0,len(all_y)):\n",
    "            \n",
    "        features = build_features(all_x[i],all_y[j],6)\n",
    "        Z_GRID[i][j] = np.dot(features,THETA_RESULT[0].reshape(THETA_RESULT[0].shape[0],1))[0][0]\n",
    "        \n",
    "plt.contour(all_x.ravel(),all_y.ravel(),Z_GRID)"
   ]
  },
  {
   "cell_type": "code",
   "execution_count": 49,
   "metadata": {},
   "outputs": [
    {
     "data": {
      "text/plain": [
       "<matplotlib.contour.QuadContourSet at 0x7f4c079deda0>"
      ]
     },
     "execution_count": 49,
     "metadata": {},
     "output_type": "execute_result"
    },
    {
     "data": {
      "image/png": "[encoded data removed]",
      "text/plain": [
       "<matplotlib.figure.Figure at 0x7f4c079bb6d8>"
      ]
     },
     "metadata": {},
     "output_type": "display_data"
    }
   ],
   "source": [
    "import matplotlib.pyplot as plt\n",
    "import seaborn as sns\n",
    "sns.set(style=\"whitegrid\",color_codes=True)\n",
    "\n",
    "sns.pairplot(x_vars=\"X1\", y_vars=\"X2\", hue=\"Y\", data=df_for_regularized_reg_log,size=5)\n",
    "plt.contour(all_x.ravel(),all_y.ravel(),Z_GRID,[-1e-6,1e6])"
   ]
  },
  {
   "cell_type": "code",
   "execution_count": null,
   "metadata": {},
   "outputs": [],
   "source": [
    "# Lorsque lambda = 100 :\n",
    "\n",
    "# on constate que la courbe de séparation des points, sépare mal les points \n",
    "# et donc qu'il y a sous-apprentissage"
   ]
  }
 ],
 "metadata": {
  "kernelspec": {
   "display_name": "Python 3",
   "language": "python",
   "name": "python3"
  },
  "language_info": {
   "codemirror_mode": {
    "name": "ipython",
    "version": 3
   },
   "file_extension": ".py",
   "mimetype": "text/x-python",
   "name": "python",
   "nbconvert_exporter": "python",
   "pygments_lexer": "ipython3",
   "version": "3.5.2"
  },
  "latex_envs": {
   "LaTeX_envs_menu_present": true,
   "autocomplete": true,
   "bibliofile": "biblio.bib",
   "cite_by": "apalike",
   "current_citInitial": 1,
   "eqLabelWithNumbers": true,
   "eqNumInitial": 1,
   "hotkeys": {
    "equation": "Ctrl-E",
    "itemize": "Ctrl-I"
   },
   "labels_anchors": false,
   "latex_user_defs": false,
   "report_style_numbering": false,
   "user_envs_cfg": false
  },
  "toc": {
   "nav_menu": {},
   "number_sections": true,
   "sideBar": true,
   "skip_h1_title": false,
   "toc_cell": false,
   "toc_position": {
    "height": "766px",
    "left": "0px",
    "right": "1272px",
    "top": "111px",
    "width": "212px"
   },
   "toc_section_display": "block",
   "toc_window_display": true
  },
  "varInspector": {
   "cols": {
    "lenName": 16,
    "lenType": 16,
    "lenVar": 40
   },
   "kernels_config": {
    "python": {
     "delete_cmd_postfix": "",
     "delete_cmd_prefix": "del ",
     "library": "var_list.py",
     "varRefreshCmd": "print(var_dic_list())"
    },
    "r": {
     "delete_cmd_postfix": ") ",
     "delete_cmd_prefix": "rm(",
     "library": "var_list.r",
     "varRefreshCmd": "cat(var_dic_list()) "
    }
   },
   "position": {
    "height": "145px",
    "left": "1309.35px",
    "right": "20px",
    "top": "120.994px",
    "width": "350px"
   },
   "types_to_exclude": [
    "module",
    "function",
    "builtin_function_or_method",
    "instance",
    "_Feature"
   ],
   "window_display": false
  }
 },
 "nbformat": 4,
 "nbformat_minor": 2
}
